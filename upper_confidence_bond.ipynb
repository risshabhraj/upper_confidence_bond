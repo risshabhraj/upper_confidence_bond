{
  "nbformat": 4,
  "nbformat_minor": 0,
  "metadata": {
    "colab": {
      "name": "upper_confidence_bond.ipynb",
      "provenance": [],
      "authorship_tag": "ABX9TyOxb9pj86kyIP93CVgo8qJl",
      "include_colab_link": true
    },
    "kernelspec": {
      "name": "python3",
      "display_name": "Python 3"
    },
    "language_info": {
      "name": "python"
    }
  },
  "cells": [
    {
      "cell_type": "markdown",
      "metadata": {
        "id": "view-in-github",
        "colab_type": "text"
      },
      "source": [
        "<a href=\"https://colab.research.google.com/github/risshabhraj/upper_confidence_bond/blob/main/upper_confidence_bond.ipynb\" target=\"_parent\"><img src=\"https://colab.research.google.com/assets/colab-badge.svg\" alt=\"Open In Colab\"/></a>"
      ]
    },
    {
      "cell_type": "markdown",
      "metadata": {
        "id": "VNYGYRnJ4rNp"
      },
      "source": [
        "Importing Libraries"
      ]
    },
    {
      "cell_type": "code",
      "metadata": {
        "id": "nqWeBaNE4kcP"
      },
      "source": [
        "import numpy as np\n",
        "import pandas as pd\n",
        "import matplotlib.pyplot as plt"
      ],
      "execution_count": 1,
      "outputs": []
    },
    {
      "cell_type": "markdown",
      "metadata": {
        "id": "_rZd2tfS7DQ3"
      },
      "source": [
        "Importing Data"
      ]
    },
    {
      "cell_type": "code",
      "metadata": {
        "id": "1gtNeeIm6v8Q"
      },
      "source": [
        "df=pd.read_csv('Ads_CTR_Optimisation.csv')"
      ],
      "execution_count": 2,
      "outputs": []
    },
    {
      "cell_type": "markdown",
      "metadata": {
        "id": "QJ2Yg3-_iwdS"
      },
      "source": [
        "Implementing UCB"
      ]
    },
    {
      "cell_type": "code",
      "metadata": {
        "id": "sgYO66qriz8L"
      },
      "source": [
        "import math\n",
        "N=10000\n",
        "d=10\n",
        "ads_selected=[]\n",
        "number_of_selections=[0]*d\n",
        "sum_of_rewards=[0]*d\n",
        "total_rewards=0\n",
        "for n in range(0, N):\n",
        "  ad=0\n",
        "  max_upper_bound=0\n",
        "  for i in range (0, d):\n",
        "    if (number_of_selections[i]>0):\n",
        "      average_rewards=sum_of_rewards[i]/number_of_selections[i]\n",
        "      delta_i=math.sqrt(3/2*math.log(n+1)/number_of_selections[i])\n",
        "      ucb=average_rewards+delta_i\n",
        "    else:\n",
        "      ucb=1e400\n",
        "    if (ucb>max_upper_bound):\n",
        "      max_upper_bound=ucb\n",
        "      ad=i\n",
        "  ads_selected.append(ad)\n",
        "  number_of_selections[ad]+=1\n",
        "  reward=df.values[n, ad]\n",
        "  sum_of_rewards[ad]+=reward\n",
        "  total_rewards+=reward"
      ],
      "execution_count": 3,
      "outputs": []
    },
    {
      "cell_type": "markdown",
      "metadata": {
        "id": "_fx2XCOlsIbG"
      },
      "source": [
        "Visualising the result"
      ]
    },
    {
      "cell_type": "code",
      "metadata": {
        "colab": {
          "base_uri": "https://localhost:8080/",
          "height": 295
        },
        "id": "_4hg3arvsFdV",
        "outputId": "91cb43f5-972a-4d2c-de34-7a70e3ad2b71"
      },
      "source": [
        "plt.hist(ads_selected)\n",
        "plt.title('Histogram Of Ads Selected')\n",
        "plt.xlabel('Ads')\n",
        "plt.ylabel('Number of times ads were selected')\n",
        "plt.show()"
      ],
      "execution_count": 4,
      "outputs": [
        {
          "output_type": "display_data",
          "data": {
            "image/png": "[encoded data removed]",
            "text/plain": [
              "<Figure size 432x288 with 1 Axes>"
            ]
          },
          "metadata": {
            "needs_background": "light"
          }
        }
      ]
    }
  ]
}